{
 "cells": [
  {
   "cell_type": "code",
   "execution_count": 1,
   "id": "ef7fe70c-3eb6-45a2-b052-d3c224c81ff0",
   "metadata": {},
   "outputs": [
    {
     "data": {
      "text/plain": [
       "'\\nEscreva um programa que pergunte o valor inicial de uma dívida e \\no juro mensal. Pergunte também o valor mensal que será pago. Imprima o número \\nde meses para que a dívida seja paga, o total pago e o total de juros pago.\\n'"
      ]
     },
     "execution_count": 1,
     "metadata": {},
     "output_type": "execute_result"
    }
   ],
   "source": [
    "#5.13\n",
    "\"\"\"\n",
    "Escreva um programa que pergunte o valor inicial de uma dívida e \n",
    "o juro mensal. Pergunte também o valor mensal que será pago. Imprima o número \n",
    "de meses para que a dívida seja paga, o total pago e o total de juros pago.\n",
    "\"\"\""
   ]
  },
  {
   "cell_type": "code",
   "execution_count": 2,
   "id": "12777c48-9a13-459c-8f86-543113e971f8",
   "metadata": {},
   "outputs": [
    {
     "name": "stdin",
     "output_type": "stream",
     "text": [
      "Insira o valor inicial da dívida (R$): 9000\n",
      "Insira a taxa de juros da dívida (%): 10\n",
      "Insira o valor que será abatido mensalmente: 1050\n"
     ]
    },
    {
     "name": "stdout",
     "output_type": "stream",
     "text": [
      "Sua dívida será paga em 21 meses\n"
     ]
    }
   ],
   "source": [
    "divida = float(input(\"Insira o valor inicial da dívida (R$):\"))\n",
    "juros = float(input(\"Insira a taxa de juros da dívida (%):\"))/100\n",
    "amort = float(input(\"Insira o valor que será abatido mensalmente:\"))\n",
    "\n",
    "mes = 0\n",
    "\n",
    "while divida > 0:\n",
    "    divida = divida*(1+juros)-amort\n",
    "    mes = mes+1\n",
    "    if mes >1000:\n",
    "        print(\"Sua dívida é impagável\")\n",
    "        break\n",
    "if divida < 0:\n",
    "    print(\"Sua dívida será paga em %d meses\" %mes)"
   ]
  },
  {
   "cell_type": "code",
   "execution_count": 3,
   "id": "f2ffd035-3135-4713-808b-cf7b40702fc8",
   "metadata": {},
   "outputs": [
    {
     "data": {
      "text/plain": [
       "'\\nEscreva um programa que leia números inteiros do teclado. O programa \\ndeve ler os números até que o usuário digite 0 (zero). No final da execução, \\nexiba a quantidade de números digitados, assim como a soma e a média aritmética.\\n'"
      ]
     },
     "execution_count": 3,
     "metadata": {},
     "output_type": "execute_result"
    }
   ],
   "source": [
    "#5.14\n",
    "\"\"\"\n",
    "Escreva um programa que leia números inteiros do teclado. O programa \n",
    "deve ler os números até que o usuário digite 0 (zero). No final da execução, \n",
    "exiba a quantidade de números digitados, assim como a soma e a média aritmética.\n",
    "\"\"\""
   ]
  },
  {
   "cell_type": "code",
   "execution_count": 4,
   "id": "a69ab723-6996-4cb3-9673-b93f8d1bba7c",
   "metadata": {},
   "outputs": [
    {
     "name": "stdin",
     "output_type": "stream",
     "text": [
      "Digite um número inteiro: 90\n",
      "Digite um número inteiro: 10\n",
      "Digite um número inteiro: 45\n",
      "Digite um número inteiro: 0\n"
     ]
    },
    {
     "name": "stdout",
     "output_type": "stream",
     "text": [
      "Soma = 145, Média = 48.333333333333336\n"
     ]
    }
   ],
   "source": [
    "x=0\n",
    "y=0\n",
    "while True:\n",
    "    numero = int(input(\"Digite um número inteiro:\"))\n",
    "    if numero == 0:\n",
    "        break\n",
    "    x=x+numero\n",
    "    y=y+1\n",
    "    média=x/y\n",
    "print(f\"Soma = {x}, Média = {média}\")"
   ]
  },
  {
   "cell_type": "code",
   "execution_count": 5,
   "id": "8d3244c7-8edd-4e4b-a1d8-d395d2d75d02",
   "metadata": {},
   "outputs": [
    {
     "data": {
      "text/plain": [
       "'\\nEscreva um programa para controlar uma pequena máquina registradora. \\nVocê deve solicitar ao usuário que digite o código do produto e a quantidade \\ncomprada. Utilize a tabela de códigos abaixo para obter o preço de cada produto:\\n Código Preço\\n 1      0,50\\n 2      1,00\\n 3      4,00\\n 5      7,00\\n 9      8,00\\nSeu programa deve exibir o total das compras depois que o usuário digitar 0. \\nQualquer outro código deve gerar a mensagem de erro “Código inválido”.\\n'"
      ]
     },
     "execution_count": 5,
     "metadata": {},
     "output_type": "execute_result"
    }
   ],
   "source": [
    "#5.15\n",
    "\"\"\"\n",
    "Escreva um programa para controlar uma pequena máquina registradora. \n",
    "Você deve solicitar ao usuário que digite o código do produto e a quantidade \n",
    "comprada. Utilize a tabela de códigos abaixo para obter o preço de cada produto:\n",
    " Código Preço\n",
    " 1      0,50\n",
    " 2      1,00\n",
    " 3      4,00\n",
    " 5      7,00\n",
    " 9      8,00\n",
    "Seu programa deve exibir o total das compras depois que o usuário digitar 0. \n",
    "Qualquer outro código deve gerar a mensagem de erro “Código inválido”.\n",
    "\"\"\""
   ]
  },
  {
   "cell_type": "code",
   "execution_count": 6,
   "id": "257e1ecc-1c6a-4012-b974-466adb0124d4",
   "metadata": {},
   "outputs": [
    {
     "name": "stdin",
     "output_type": "stream",
     "text": [
      "Código do produto (digite 0 para encerrar): 0\n"
     ]
    },
    {
     "name": "stdout",
     "output_type": "stream",
     "text": [
      "O total das compras é de R$0.00\n"
     ]
    }
   ],
   "source": [
    "total = 0\n",
    "while True:\n",
    "    codigo = int(input(\"Código do produto (digite 0 para encerrar):\"))\n",
    "    preco = 0\n",
    "    if codigo == 0:\n",
    "        break\n",
    "    elif codigo == 1:\n",
    "        preco = 0.5\n",
    "    elif codigo == 2:\n",
    "        preco = 1\n",
    "    elif codigo == 3:\n",
    "        preco = 4\n",
    "    elif codigo == 5:\n",
    "        preco = 7\n",
    "    elif codigo == 9:\n",
    "        preco = 8\n",
    "    else:\n",
    "        print(\"Código Inválido\")\n",
    "    if preco != 0:\n",
    "        quantidade = int(input(\"Quantidade:\"))\n",
    "        total = total + (preco*quantidade)\n",
    "print(f\"O total das compras é de R${total:.2f}\")"
   ]
  },
  {
   "cell_type": "code",
   "execution_count": 7,
   "id": "bca12112-162a-4158-a99f-be5b43e0d064",
   "metadata": {},
   "outputs": [
    {
     "data": {
      "text/plain": [
       "'\\nEscreva um programa que exiba uma lista de opções (menu): adição, \\nsubtração, divisão, multiplicação e sair. Imprima a tabuada da operação escolhida. \\nRepita até que a opção saída seja escolhida.\\n'"
      ]
     },
     "execution_count": 7,
     "metadata": {},
     "output_type": "execute_result"
    }
   ],
   "source": [
    "#5.21\n",
    "\"\"\"\n",
    "Escreva um programa que exiba uma lista de opções (menu): adição, \n",
    "subtração, divisão, multiplicação e sair. Imprima a tabuada da operação escolhida. \n",
    "Repita até que a opção saída seja escolhida.\n",
    "\"\"\""
   ]
  },
  {
   "cell_type": "code",
   "execution_count": 8,
   "id": "ce55a04e-a138-4c5e-bde1-c58600174285",
   "metadata": {},
   "outputs": [
    {
     "name": "stdout",
     "output_type": "stream",
     "text": [
      "\n",
      "Menu\n",
      "--------\n",
      "1 - Adição\n",
      "2 - Subtração\n",
      "3 - Multiplicação\n",
      "4 - Divisão\n",
      "5 - Sair\n",
      "---------\n",
      "\n"
     ]
    },
    {
     "name": "stdin",
     "output_type": "stream",
     "text": [
      "Digite um número do Menu: 1\n",
      "Tabuada do: 2\n"
     ]
    },
    {
     "name": "stdout",
     "output_type": "stream",
     "text": [
      "2 + 1 = 3\n",
      "2 + 2 = 4\n",
      "2 + 3 = 5\n",
      "2 + 4 = 6\n",
      "2 + 5 = 7\n",
      "2 + 6 = 8\n",
      "2 + 7 = 9\n",
      "2 + 8 = 10\n",
      "2 + 9 = 11\n",
      "2 + 10 = 12\n",
      "\n",
      "Menu\n",
      "--------\n",
      "1 - Adição\n",
      "2 - Subtração\n",
      "3 - Multiplicação\n",
      "4 - Divisão\n",
      "5 - Sair\n",
      "---------\n",
      "\n"
     ]
    },
    {
     "name": "stdin",
     "output_type": "stream",
     "text": [
      "Digite um número do Menu: 0\n"
     ]
    },
    {
     "name": "stdout",
     "output_type": "stream",
     "text": [
      "Operação Inválida\n",
      "\n",
      "Menu\n",
      "--------\n",
      "1 - Adição\n",
      "2 - Subtração\n",
      "3 - Multiplicação\n",
      "4 - Divisão\n",
      "5 - Sair\n",
      "---------\n",
      "\n"
     ]
    },
    {
     "name": "stdin",
     "output_type": "stream",
     "text": [
      "Digite um número do Menu: 5\n"
     ]
    }
   ],
   "source": [
    "while True:\n",
    "    print(\"\"\"\n",
    "Menu\n",
    "--------\n",
    "1 - Adição\n",
    "2 - Subtração\n",
    "3 - Multiplicação\n",
    "4 - Divisão\n",
    "5 - Sair\n",
    "---------\n",
    "\"\"\")\n",
    "    opcao = int(input(\"Digite um número do Menu:\"))\n",
    "    if opcao == 5:\n",
    "        break\n",
    "    elif opcao >= 1 and opcao <=5:\n",
    "        n = int(input(\"Tabuada do:\"))\n",
    "        x = 1\n",
    "        while x <=10:\n",
    "            if opcao == 1:\n",
    "                print(f\"{n} + {x} = {n+x}\")\n",
    "            elif opcao == 2:\n",
    "                print(f\"{n} - {x} = {n-x}\")\n",
    "            elif opcao == 3:\n",
    "                print(f\"{n} x {x} = {n*x}\")\n",
    "            elif opcao == 4:\n",
    "                print(f\"{n} / {x} = {n/x:.2f}\")\n",
    "            x +=1\n",
    "    else:\n",
    "        print(\"Operação Inválida\")\n"
   ]
  },
  {
   "cell_type": "code",
   "execution_count": 9,
   "id": "e1fc622b-7945-47c9-8233-0a7b49239ab8",
   "metadata": {},
   "outputs": [
    {
     "data": {
      "text/plain": [
       "'\\nEscreva um programa que leia um número e verifique se é ou não \\num número primo. Para fazer essa verificação, calcule o resto da divisão do número \\npor 2 e depois por todos os números ímpares até o número lido. Se o resto de uma \\ndessas divisões for igual a zero, o número não é primo. Observe que 0 e 1 não são \\nprimos e que 2 é o único número primo que é par\\n'"
      ]
     },
     "execution_count": 9,
     "metadata": {},
     "output_type": "execute_result"
    }
   ],
   "source": [
    "#5.22\n",
    "\"\"\"\n",
    "Escreva um programa que leia um número e verifique se é ou não \n",
    "um número primo. Para fazer essa verificação, calcule o resto da divisão do número \n",
    "por 2 e depois por todos os números ímpares até o número lido. Se o resto de uma \n",
    "dessas divisões for igual a zero, o número não é primo. Observe que 0 e 1 não são \n",
    "primos e que 2 é o único número primo que é par\n",
    "\"\"\""
   ]
  },
  {
   "cell_type": "code",
   "execution_count": 24,
   "id": "530d49d1-ae6d-479f-bef8-700bb7ec1133",
   "metadata": {},
   "outputs": [
    {
     "name": "stdin",
     "output_type": "stream",
     "text": [
      "Digite um número: 37\n"
     ]
    },
    {
     "name": "stdout",
     "output_type": "stream",
     "text": [
      "Este número é primo\n"
     ]
    }
   ],
   "source": [
    "nmr = int(input(\"Digite um número:\"))\n",
    "if nmr == 0:\n",
    "    print(\"Este número não é primo\")\n",
    "elif nmr == 1:\n",
    "    print(\"Este número não é primo\")\n",
    "elif nmr == 2:\n",
    "    print(\"Este número é primo\")\n",
    "else:\n",
    "    divisor = 2\n",
    "    while divisor <= nmr-1:\n",
    "        if nmr % divisor == 0:\n",
    "            print(\"Este número não é primo\")\n",
    "            break\n",
    "        divisor +=1\n",
    "    else:\n",
    "        print(\"Este número é primo\")"
   ]
  }
 ],
 "metadata": {
  "kernelspec": {
   "display_name": "Python [conda env:base] *",
   "language": "python",
   "name": "conda-base-py"
  },
  "language_info": {
   "codemirror_mode": {
    "name": "ipython",
    "version": 3
   },
   "file_extension": ".py",
   "mimetype": "text/x-python",
   "name": "python",
   "nbconvert_exporter": "python",
   "pygments_lexer": "ipython3",
   "version": "3.12.7"
  }
 },
 "nbformat": 4,
 "nbformat_minor": 5
}
