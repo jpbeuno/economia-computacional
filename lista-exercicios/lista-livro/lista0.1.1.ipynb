{
 "cells": [
  {
   "cell_type": "markdown",
   "id": "6e215f2d-3fb7-4eb3-88f7-7e23599af806",
   "metadata": {},
   "source": [
    "# Lista 0 (livro) 1 - 5"
   ]
  },
  {
   "cell_type": "markdown",
   "id": "fbfa99a1-37c0-4460-96b4-f84b1a9fa5c4",
   "metadata": {},
   "source": [
    "## Capítulo 2"
   ]
  },
  {
   "cell_type": "code",
   "execution_count": 3,
   "id": "eaadfbcf-5287-4f23-ac4f-9e6e7e61ea5b",
   "metadata": {},
   "outputs": [
    {
     "data": {
      "text/plain": [
       "'\\nConverta as seguintes expressões matemáticas para que possam ser \\ncalculadas usando o interpretador Python.\\n 10 + 20 × 30\\n 42 ÷ 30\\n (9^4 + 2) × 6 - 1\\n'"
      ]
     },
     "execution_count": 3,
     "metadata": {},
     "output_type": "execute_result"
    }
   ],
   "source": [
    "# 2.1\n",
    "\"\"\"\n",
    "Converta as seguintes expressões matemáticas para que possam ser \n",
    "calculadas usando o interpretador Python.\n",
    " 10 + 20 × 30\n",
    " 42 ÷ 30\n",
    " (9^4 + 2) × 6 - 1\n",
    "\"\"\""
   ]
  },
  {
   "cell_type": "code",
   "execution_count": 4,
   "id": "8470f5da-461d-485c-af03-8c82d4640fe8",
   "metadata": {},
   "outputs": [
    {
     "data": {
      "text/plain": [
       "310"
      ]
     },
     "execution_count": 4,
     "metadata": {},
     "output_type": "execute_result"
    }
   ],
   "source": [
    "10 + 10 * 30"
   ]
  },
  {
   "cell_type": "code",
   "execution_count": 5,
   "id": "e7c9b412-8ff9-4bb5-a47a-8bec2f33ce3b",
   "metadata": {},
   "outputs": [
    {
     "data": {
      "text/plain": [
       "1.4"
      ]
     },
     "execution_count": 5,
     "metadata": {},
     "output_type": "execute_result"
    }
   ],
   "source": [
    "42/30"
   ]
  },
  {
   "cell_type": "code",
   "execution_count": 6,
   "id": "c3951a8b-3fc8-40ac-a149-4a733ed83523",
   "metadata": {},
   "outputs": [
    {
     "data": {
      "text/plain": [
       "39377"
      ]
     },
     "execution_count": 6,
     "metadata": {},
     "output_type": "execute_result"
    }
   ],
   "source": [
    "(9**4 + 2) * 6 - 1"
   ]
  },
  {
   "cell_type": "code",
   "execution_count": 7,
   "id": "94fd95f2-4d9c-4e07-b9c8-0482ca29c382",
   "metadata": {},
   "outputs": [
    {
     "data": {
      "text/plain": [
       "'\\nDigite a seguinte expressão no interpretador:\\n 10 % 3 * 10 ** 2 + 1 - 10 * 4 / 2\\n Tente resolver o mesmo cálculo, usando apenas lápis e papel. Observe como a \\nprioridade das operações é importante.\\n'"
      ]
     },
     "execution_count": 7,
     "metadata": {},
     "output_type": "execute_result"
    }
   ],
   "source": [
    "# 2.2\n",
    "\"\"\"\n",
    "Digite a seguinte expressão no interpretador:\n",
    " 10 % 3 * 10 ** 2 + 1 - 10 * 4 / 2\n",
    " Tente resolver o mesmo cálculo, usando apenas lápis e papel. Observe como a \n",
    "prioridade das operações é importante.\n",
    "\"\"\""
   ]
  },
  {
   "cell_type": "code",
   "execution_count": 8,
   "id": "f1afe066-7c56-43cb-8954-a2f762700cc1",
   "metadata": {},
   "outputs": [
    {
     "data": {
      "text/plain": [
       "81.0"
      ]
     },
     "execution_count": 8,
     "metadata": {},
     "output_type": "execute_result"
    }
   ],
   "source": [
    "10 % 3 * 10 ** 2 + 1 - 10 * 4 / 2 # = 81"
   ]
  },
  {
   "cell_type": "code",
   "execution_count": 9,
   "id": "c15f0eb1-a141-4a22-a543-9b20502ef796",
   "metadata": {},
   "outputs": [
    {
     "data": {
      "text/plain": [
       "'\\nFaça um programa que exiba seu nome na tela.\\n'"
      ]
     },
     "execution_count": 9,
     "metadata": {},
     "output_type": "execute_result"
    }
   ],
   "source": [
    "# 2.3\n",
    "\"\"\"\n",
    "Faça um programa que exiba seu nome na tela.\n",
    "\"\"\""
   ]
  },
  {
   "cell_type": "code",
   "execution_count": 10,
   "id": "1ec6e1c3-4129-46b3-b6ed-0d12abfde04c",
   "metadata": {},
   "outputs": [
    {
     "name": "stdout",
     "output_type": "stream",
     "text": [
      "João Pedro Martins Bueno\n"
     ]
    }
   ],
   "source": [
    "nome = \"João Pedro Martins Bueno\"\n",
    "print(nome)"
   ]
  },
  {
   "cell_type": "code",
   "execution_count": 11,
   "id": "eb396644-2506-42d1-8d1f-c115aa17d748",
   "metadata": {},
   "outputs": [
    {
     "data": {
      "text/plain": [
       "'\\n Escreva um programa que exiba o resultado de 2a × 3b, onde a vale \\n 3 e b vale 5\\n '"
      ]
     },
     "execution_count": 11,
     "metadata": {},
     "output_type": "execute_result"
    }
   ],
   "source": [
    "# 2.4\n",
    "\"\"\"\n",
    " Escreva um programa que exiba o resultado de 2a × 3b, onde a vale \n",
    " 3 e b vale 5\n",
    " \"\"\""
   ]
  },
  {
   "cell_type": "code",
   "execution_count": 12,
   "id": "787502ec-d194-4c3e-8176-bff8f6bd4931",
   "metadata": {},
   "outputs": [
    {
     "name": "stdout",
     "output_type": "stream",
     "text": [
      "90\n"
     ]
    }
   ],
   "source": [
    "a = 3\n",
    "b = 5\n",
    "print(2*a*3*b)"
   ]
  },
  {
   "cell_type": "code",
   "execution_count": 13,
   "id": "da851d11-c342-4ed3-8a77-84cf04a55a48",
   "metadata": {},
   "outputs": [
    {
     "data": {
      "text/plain": [
       "'\\nModifique o primeiro programa, listagem 2.7, de forma a calcular a \\nsoma de três variáveis.\\n'"
      ]
     },
     "execution_count": 13,
     "metadata": {},
     "output_type": "execute_result"
    }
   ],
   "source": [
    "# 2.5 \n",
    "\"\"\"\n",
    "Modifique o primeiro programa, listagem 2.7, de forma a calcular a \n",
    "soma de três variáveis.\n",
    "\"\"\""
   ]
  },
  {
   "cell_type": "code",
   "execution_count": 14,
   "id": "36ca4684-26f4-4995-a441-38c1616343a6",
   "metadata": {},
   "outputs": [
    {
     "name": "stdout",
     "output_type": "stream",
     "text": [
      "18\n"
     ]
    }
   ],
   "source": [
    "a = 3\n",
    "b = 5\n",
    "c = 10\n",
    "print(a+b+c)"
   ]
  },
  {
   "cell_type": "code",
   "execution_count": 15,
   "id": "07fddaf8-f65c-4f15-8f36-02bfcd12b8bf",
   "metadata": {},
   "outputs": [
    {
     "data": {
      "text/plain": [
       "'\\nModifique o programa da listagem 2.11, de forma que ele calcule um \\n\"\"aumento de 15% para um salário de R$ 750\\n'"
      ]
     },
     "execution_count": 15,
     "metadata": {},
     "output_type": "execute_result"
    }
   ],
   "source": [
    "# 2.6 \n",
    "\"\"\"\n",
    "Modifique o programa da listagem 2.11, de forma que ele calcule um \n",
    "\"\"aumento de 15% para um salário de R$ 750\n",
    "\"\"\""
   ]
  },
  {
   "cell_type": "code",
   "execution_count": 16,
   "id": "f7f97bc1-47f8-40d3-bfdc-6bc9fddeb7ba",
   "metadata": {},
   "outputs": [
    {
     "name": "stdout",
     "output_type": "stream",
     "text": [
      "862.5\n"
     ]
    }
   ],
   "source": [
    "salario = 750\n",
    "aumento = 0.15\n",
    "print(salario + (salario*aumento))"
   ]
  },
  {
   "cell_type": "markdown",
   "id": "86a76a04-5170-420f-8b59-2a47d424e1aa",
   "metadata": {},
   "source": [
    "## Capítulo 3"
   ]
  },
  {
   "cell_type": "code",
   "execution_count": 18,
   "id": "6bf6cbaa-e654-4834-bafc-434d799bca02",
   "metadata": {},
   "outputs": [
    {
     "data": {
      "text/plain": [
       "'\\nEscreva uma expressão para determinar se uma pessoa deve ou não \\npagar imposto. Considere que pagam imposto pessoas cujo salário é maior que \\nR$ 1.200,00.\\n'"
      ]
     },
     "execution_count": 18,
     "metadata": {},
     "output_type": "execute_result"
    }
   ],
   "source": [
    "# 3.4 \n",
    "\"\"\"\n",
    "Escreva uma expressão para determinar se uma pessoa deve ou não \n",
    "pagar imposto. Considere que pagam imposto pessoas cujo salário é maior que \n",
    "R$ 1.200,00.\n",
    "\"\"\""
   ]
  },
  {
   "cell_type": "code",
   "execution_count": 19,
   "id": "a323c0ad-2373-4e8b-8516-ee88842f1671",
   "metadata": {},
   "outputs": [
    {
     "data": {
      "text/plain": [
       "False"
      ]
     },
     "execution_count": 19,
     "metadata": {},
     "output_type": "execute_result"
    }
   ],
   "source": [
    "w = 1100 # x\n",
    "w > 1200"
   ]
  },
  {
   "cell_type": "code",
   "execution_count": 20,
   "id": "b3f37cbe-0eb3-456a-a4aa-f9316b49f2d7",
   "metadata": {},
   "outputs": [
    {
     "data": {
      "text/plain": [
       "'\\nCalcule o resultado da expressão A > B and C or D, utilizando os \\nvalores da tabela dada.\\n'"
      ]
     },
     "execution_count": 20,
     "metadata": {},
     "output_type": "execute_result"
    }
   ],
   "source": [
    "# 3.5 \n",
    "\"\"\"\n",
    "Calcule o resultado da expressão A > B and C or D, utilizando os \n",
    "valores da tabela dada.\n",
    "\"\"\""
   ]
  },
  {
   "cell_type": "code",
   "execution_count": 21,
   "id": "8ec293ef-947a-4533-ba24-7df113aa27c5",
   "metadata": {},
   "outputs": [
    {
     "data": {
      "text/plain": [
       "False"
      ]
     },
     "execution_count": 21,
     "metadata": {},
     "output_type": "execute_result"
    }
   ],
   "source": [
    "a = 1\n",
    "b = 2\n",
    "c = True\n",
    "d = False\n",
    "\n",
    "a > b and c or d"
   ]
  },
  {
   "cell_type": "code",
   "execution_count": 22,
   "id": "fe5ef37b-0892-49dd-b866-1b175f72f724",
   "metadata": {},
   "outputs": [
    {
     "data": {
      "text/plain": [
       "'\\nEscreva uma expressão que será utilizada para decidir se um aluno foi \\nou não aprovado. Para ser aprovado, todas as médias do aluno devem ser maiores \\nque 7. Considere que o aluno cursa apenas três matérias, e que a nota de cada uma \\nestá armazenada nas seguintes variáveis: matéria1, matéria2 e matéria3.\\n'"
      ]
     },
     "execution_count": 22,
     "metadata": {},
     "output_type": "execute_result"
    }
   ],
   "source": [
    "# 3.6\n",
    "\"\"\"\n",
    "Escreva uma expressão que será utilizada para decidir se um aluno foi \n",
    "ou não aprovado. Para ser aprovado, todas as médias do aluno devem ser maiores \n",
    "que 7. Considere que o aluno cursa apenas três matérias, e que a nota de cada uma \n",
    "está armazenada nas seguintes variáveis: matéria1, matéria2 e matéria3.\n",
    "\"\"\""
   ]
  },
  {
   "cell_type": "code",
   "execution_count": 23,
   "id": "c8974766-ee27-4b57-9ecc-38558aa2677c",
   "metadata": {},
   "outputs": [
    {
     "data": {
      "text/plain": [
       "True"
      ]
     },
     "execution_count": 23,
     "metadata": {},
     "output_type": "execute_result"
    }
   ],
   "source": [
    "matéria1 = 7.1\n",
    "matéria2 = 8.0\n",
    "matéria3 = 9.4\n",
    "\n",
    "matéria1 > 7 and matéria2 > 7 and matéria3 > 7"
   ]
  },
  {
   "cell_type": "code",
   "execution_count": 24,
   "id": "eadb71b2-d6f5-40ad-9d08-bb755632719a",
   "metadata": {},
   "outputs": [
    {
     "data": {
      "text/plain": [
       "'\\nFaça um programa que peça dois números inteiros. Imprima a soma \\ndesses dois números na tela.\\n'"
      ]
     },
     "execution_count": 24,
     "metadata": {},
     "output_type": "execute_result"
    }
   ],
   "source": [
    "# 3.7\n",
    "\"\"\"\n",
    "Faça um programa que peça dois números inteiros. Imprima a soma \n",
    "desses dois números na tela.\n",
    "\"\"\""
   ]
  },
  {
   "cell_type": "code",
   "execution_count": 25,
   "id": "0b6089e2-6c3d-4064-83df-1461ace1a091",
   "metadata": {},
   "outputs": [
    {
     "name": "stdin",
     "output_type": "stream",
     "text": [
      "Diga um número: 10\n",
      "Diga outro número: 10\n"
     ]
    },
    {
     "name": "stdout",
     "output_type": "stream",
     "text": [
      "Sua soma é: 10 + 10\n",
      "20\n"
     ]
    }
   ],
   "source": [
    "soma1 = int(input(\"Diga um número:\"))\n",
    "soma2 = int(input(\"Diga outro número:\"))\n",
    "print(\"Sua soma é: %d\" %soma1 + \" + %d\" %soma2)\n",
    "print(soma1+soma2)\n"
   ]
  },
  {
   "cell_type": "code",
   "execution_count": 26,
   "id": "66d6c786-80e1-4dce-8959-d333eef3fc98",
   "metadata": {},
   "outputs": [
    {
     "data": {
      "text/plain": [
       "'\\nEscreva um programa que leia um valor em metros e o exiba \\nconvertido em milímetros.\\n'"
      ]
     },
     "execution_count": 26,
     "metadata": {},
     "output_type": "execute_result"
    }
   ],
   "source": [
    "# 3.8\n",
    "\"\"\"\n",
    "Escreva um programa que leia um valor em metros e o exiba \n",
    "convertido em milímetros.\n",
    "\"\"\""
   ]
  },
  {
   "cell_type": "code",
   "execution_count": 27,
   "id": "5c93400d-2300-44c3-9417-aefab6175648",
   "metadata": {},
   "outputs": [
    {
     "name": "stdin",
     "output_type": "stream",
     "text": [
      "Qual a medida, em metros? 50\n"
     ]
    },
    {
     "name": "stdout",
     "output_type": "stream",
     "text": [
      "Você tem 50000.00 milímetros\n"
     ]
    }
   ],
   "source": [
    "tam = float(input(\"Qual a medida, em metros?\"))\n",
    "mm = tam*1000\n",
    "print(\"Você tem %.2f\" %mm + \" milímetros\")"
   ]
  },
  {
   "cell_type": "code",
   "execution_count": 28,
   "id": "15194043-ec3b-4a5b-aeff-eac7aa30fce1",
   "metadata": {},
   "outputs": [
    {
     "data": {
      "text/plain": [
       "'\\nEscreva um programa que leia a quantidade de dias, horas, minutos \\ne segundos do usuário. Calcule o total em segundos\\n'"
      ]
     },
     "execution_count": 28,
     "metadata": {},
     "output_type": "execute_result"
    }
   ],
   "source": [
    "# 3.9\n",
    "\"\"\"\n",
    "Escreva um programa que leia a quantidade de dias, horas, minutos \n",
    "e segundos do usuário. Calcule o total em segundos\n",
    "\"\"\""
   ]
  },
  {
   "cell_type": "code",
   "execution_count": 29,
   "id": "3f517615-0012-4552-b0b9-82d3ae22784b",
   "metadata": {},
   "outputs": [
    {
     "name": "stdin",
     "output_type": "stream",
     "text": [
      "Insira a quantidade de dias: 95\n",
      "Insira a quantidade de horas: 10\n",
      "Insira a quantidade de minutos: 3\n",
      "Insira a quantidade de segundos: 3\n"
     ]
    },
    {
     "name": "stdout",
     "output_type": "stream",
     "text": [
      "Totaliza-se 8244183 segundos\n"
     ]
    }
   ],
   "source": [
    "dias = int(input(\"Insira a quantidade de dias:\"))\n",
    "horas = int(input(\"Insira a quantidade de horas:\"))\n",
    "minutos = int(input(\"Insira a quantidade de minutos:\"))\n",
    "segundos = int(input(\"Insira a quantidade de segundos:\"))\n",
    "\n",
    "conversor = dias*24*60*60+horas*60*60+minutos*60+segundos\n",
    "\n",
    "print(\"Totaliza-se %d\" %conversor + \" segundos\")"
   ]
  },
  {
   "cell_type": "code",
   "execution_count": 30,
   "id": "4c6d30ef-cdfb-45b6-aeb9-c707c15248a3",
   "metadata": {},
   "outputs": [
    {
     "data": {
      "text/plain": [
       "'\\nFaça um programa que calcule o aumento de um salário. Ele deve \\nsolicitar o valor do salário e a porcentagem do aumento. Exiba o valor do aumento \\ne do novo salário\\n'"
      ]
     },
     "execution_count": 30,
     "metadata": {},
     "output_type": "execute_result"
    }
   ],
   "source": [
    "# 3.10 \n",
    "\"\"\"\n",
    "Faça um programa que calcule o aumento de um salário. Ele deve \n",
    "solicitar o valor do salário e a porcentagem do aumento. Exiba o valor do aumento \n",
    "e do novo salário\n",
    "\"\"\""
   ]
  },
  {
   "cell_type": "code",
   "execution_count": 31,
   "id": "c89a86f8-da3e-4cdf-96db-24551b5aa309",
   "metadata": {},
   "outputs": [
    {
     "name": "stdin",
     "output_type": "stream",
     "text": [
      "Qual o seu salário (R$)? 42141\n",
      "Em quanto ele vai aumentar (%)? 90\n"
     ]
    },
    {
     "name": "stdout",
     "output_type": "stream",
     "text": [
      "Seu novo salário é de R$80067.90\n"
     ]
    }
   ],
   "source": [
    "salário = float(input(\"Qual o seu salário (R$)?\"))\n",
    "aumento = float(input(\"Em quanto ele vai aumentar (%)?\"))\n",
    "\n",
    "salario_novo = salário + (aumento/100 * salário)\n",
    "\n",
    "print(\"Seu novo salário é de R$%.2f\" %salario_novo)"
   ]
  },
  {
   "cell_type": "code",
   "execution_count": 32,
   "id": "e64b93bd-b771-4659-a433-174cd317204c",
   "metadata": {},
   "outputs": [
    {
     "data": {
      "text/plain": [
       "'\\nFaça um programa que solicite o preço de uma mercadoria e o percentual\\nde desconto. Exiba o valor do desconto e o preço a pagar.\\n'"
      ]
     },
     "execution_count": 32,
     "metadata": {},
     "output_type": "execute_result"
    }
   ],
   "source": [
    "# 3.11 \n",
    "\"\"\"\n",
    "Faça um programa que solicite o preço de uma mercadoria e o percentual\n",
    "de desconto. Exiba o valor do desconto e o preço a pagar.\n",
    "\"\"\""
   ]
  },
  {
   "cell_type": "code",
   "execution_count": 33,
   "id": "6a3a2287-228c-4fae-8b38-4c9a6816b456",
   "metadata": {},
   "outputs": [
    {
     "name": "stdin",
     "output_type": "stream",
     "text": [
      "Qual o preço da mercadoria (R$)? 900\n",
      "Qual foi o desconto dado (%)? 30\n"
     ]
    },
    {
     "name": "stdout",
     "output_type": "stream",
     "text": [
      "O desconto é de R$270.00\n",
      "O valor total é de R$630.00\n"
     ]
    }
   ],
   "source": [
    "merc = float(input(\"Qual o preço da mercadoria (R$)?\"))\n",
    "desc = float(input(\"Qual foi o desconto dado (%)?\"))/100 * merc\n",
    "\n",
    "total = merc - desc\n",
    "\n",
    "print(\"O desconto é de R$%.2f\" %desc)\n",
    "print(\"O valor total é de R$%.2f\" %total)"
   ]
  },
  {
   "cell_type": "code",
   "execution_count": 34,
   "id": "27e6753b-9d37-4068-937b-eacb00fffa12",
   "metadata": {},
   "outputs": [
    {
     "data": {
      "text/plain": [
       "'\\nEscreva um programa que calcule o tempo de uma viagem de carro. \\nPergunte a distância a percorrer e a velocidade média esperada para a viagem.\\n'"
      ]
     },
     "execution_count": 34,
     "metadata": {},
     "output_type": "execute_result"
    }
   ],
   "source": [
    "#3.12 \n",
    "\"\"\"\n",
    "Escreva um programa que calcule o tempo de uma viagem de carro. \n",
    "Pergunte a distância a percorrer e a velocidade média esperada para a viagem.\n",
    "\"\"\""
   ]
  },
  {
   "cell_type": "code",
   "execution_count": 35,
   "id": "ee53c3eb-445a-4ec2-b9b3-a4fcfa7c81d3",
   "metadata": {},
   "outputs": [
    {
     "name": "stdin",
     "output_type": "stream",
     "text": [
      "Qual a distância total a ser percorrida (km)? 8490\n",
      "Qual a velocidade média esperada (km/h)? 100\n"
     ]
    },
    {
     "name": "stdout",
     "output_type": "stream",
     "text": [
      "O tempo estimado da viagem é de 84.90 horas\n"
     ]
    }
   ],
   "source": [
    "dist = float(input(\"Qual a distância total a ser percorrida (km)?\"))\n",
    "vel = float(input(\"Qual a velocidade média esperada (km/h)?\"))\n",
    "\n",
    "time = dist/vel\n",
    "\n",
    "print(\"O tempo estimado da viagem é de %.2f\" %time + \" horas\")"
   ]
  },
  {
   "cell_type": "code",
   "execution_count": 36,
   "id": "e5eff9fd-7b85-4b38-a095-26d9a7596b3d",
   "metadata": {},
   "outputs": [
    {
     "data": {
      "text/plain": [
       "'\\nEscreva um programa que converta uma temperatura digitada em \\n°C em °F. A fórmula para essa conversão é: F = (9 x C/5)+32\\n'"
      ]
     },
     "execution_count": 36,
     "metadata": {},
     "output_type": "execute_result"
    }
   ],
   "source": [
    "# 3.13 \n",
    "\"\"\"\n",
    "Escreva um programa que converta uma temperatura digitada em \n",
    "°C em °F. A fórmula para essa conversão é: F = (9 x C/5)+32\n",
    "\"\"\""
   ]
  },
  {
   "cell_type": "code",
   "execution_count": 37,
   "id": "5319cdff-8d00-4420-aa0e-f0fc31e9e467",
   "metadata": {},
   "outputs": [
    {
     "name": "stdin",
     "output_type": "stream",
     "text": [
      "Insira a temperatura em celsius: 933\n"
     ]
    },
    {
     "name": "stdout",
     "output_type": "stream",
     "text": [
      "Converte-se em 1711.40 fahrenheit\n"
     ]
    }
   ],
   "source": [
    "celsius = float(input(\"Insira a temperatura em celsius:\"))\n",
    "\n",
    "fahrenheit = (9*celsius/5)+32\n",
    "\n",
    "print(\"Converte-se em %.2f\" %fahrenheit + \" fahrenheit\")"
   ]
  },
  {
   "cell_type": "code",
   "execution_count": 38,
   "id": "82061ee3-a5e8-48e1-89a5-69f60b59f50d",
   "metadata": {},
   "outputs": [
    {
     "data": {
      "text/plain": [
       "'\\nEscreva um programa que pergunte a quantidade de km percorridos por um carro \\nalugado pelo usuário, assim como a quantidade de dias pelos quais no carro \\nfoi alugado. Calcule o preço a pagar, sabendo que o carro custa R$ 60 por \\ndia e R$ 0,15 por km rodado\\n'"
      ]
     },
     "execution_count": 38,
     "metadata": {},
     "output_type": "execute_result"
    }
   ],
   "source": [
    "# 3.14\n",
    "\"\"\"\n",
    "Escreva um programa que pergunte a quantidade de km percorridos por um carro \n",
    "alugado pelo usuário, assim como a quantidade de dias pelos quais no carro \n",
    "foi alugado. Calcule o preço a pagar, sabendo que o carro custa R$ 60 por \n",
    "dia e R$ 0,15 por km rodado\n",
    "\"\"\""
   ]
  },
  {
   "cell_type": "code",
   "execution_count": 39,
   "id": "01ecc0d1-7401-40de-a629-656bfdf78a43",
   "metadata": {},
   "outputs": [
    {
     "name": "stdin",
     "output_type": "stream",
     "text": [
      "Quantos quilômetros foram percorridos no total? 1320\n",
      "Por quantos dias o carro foi alugado? 44\n"
     ]
    },
    {
     "name": "stdout",
     "output_type": "stream",
     "text": [
      "O preço a pagar é de R$2838.00\n"
     ]
    }
   ],
   "source": [
    "km = float(input(\"Quantos quilômetros foram percorridos no total?\"))\n",
    "day = int(input(\"Por quantos dias o carro foi alugado?\"))\n",
    "\n",
    "preco_total = day*60 + km*0.15\n",
    "\n",
    "print(\"O preço a pagar é de R$%.2f\" %preco_total)"
   ]
  },
  {
   "cell_type": "code",
   "execution_count": 40,
   "id": "e9eb4534-5d35-4d3a-b146-c7bb1bf250b4",
   "metadata": {},
   "outputs": [
    {
     "data": {
      "text/plain": [
       "'\\nEscreva um programa para calcular a redução do tempo de vida de \\num fumante. Pergunte a quantidade de cigarros fumados por dia e quantos anos \\nele já fumou. Considere que um fumante perde 10 minutos de vida a cada cigarro, \\ncalcule quantos dias de vida um fumante perderá. Exiba o total em dias.\\n'"
      ]
     },
     "execution_count": 40,
     "metadata": {},
     "output_type": "execute_result"
    }
   ],
   "source": [
    "#3.15 \n",
    "\"\"\"\n",
    "Escreva um programa para calcular a redução do tempo de vida de \n",
    "um fumante. Pergunte a quantidade de cigarros fumados por dia e quantos anos \n",
    "ele já fumou. Considere que um fumante perde 10 minutos de vida a cada cigarro, \n",
    "calcule quantos dias de vida um fumante perderá. Exiba o total em dias.\n",
    "\"\"\""
   ]
  },
  {
   "cell_type": "code",
   "execution_count": 41,
   "id": "9b5b18c7-6177-4799-8038-5049cbce28d6",
   "metadata": {},
   "outputs": [
    {
     "name": "stdin",
     "output_type": "stream",
     "text": [
      "Quantos cigarros, em média, você fuma por dia? 9014\n",
      "Há quantos anos você fuma? 1\n"
     ]
    },
    {
     "name": "stdout",
     "output_type": "stream",
     "text": [
      "Seus hábitos de fumo diminuíram sua expectativa de vida em 22847.99 dias\n"
     ]
    }
   ],
   "source": [
    "cig = int(input(\"Quantos cigarros, em média, você fuma por dia?\"))\n",
    "yrs = int(input(\"Há quantos anos você fuma?\"))\n",
    "\n",
    "minutes_lost = cig*365*yrs*10\n",
    "total_lost = minutes_lost/60/24\n",
    "print(\"Seus hábitos de fumo diminuíram sua expectativa de vida em %.2f\" %total_lost + \" dias\") "
   ]
  },
  {
   "cell_type": "markdown",
   "id": "c8e82ea2-4e5e-40c3-93be-d8f266e0d341",
   "metadata": {},
   "source": [
    "## Capítulo 4"
   ]
  },
  {
   "cell_type": "code",
   "execution_count": 43,
   "id": "41cbc5c2-e42e-4b07-b70f-c3d4ca4e3912",
   "metadata": {},
   "outputs": [
    {
     "data": {
      "text/plain": [
       "'\\nAnalise o programa da listagem 4.2. Responda o que acontece se o \\nprimeiro e o segundo valores forem iguais? Explique.\\n'"
      ]
     },
     "execution_count": 43,
     "metadata": {},
     "output_type": "execute_result"
    }
   ],
   "source": [
    "#4.1\n",
    "\"\"\"\n",
    "Analise o programa da listagem 4.2. Responda o que acontece se o \n",
    "primeiro e o segundo valores forem iguais? Explique.\n",
    "\"\"\""
   ]
  },
  {
   "cell_type": "code",
   "execution_count": 44,
   "id": "f365a85e-69b9-4c0c-9392-5c676160f1c4",
   "metadata": {},
   "outputs": [
    {
     "name": "stdin",
     "output_type": "stream",
     "text": [
      "Primeiro valor:  9421\n",
      "Segundo valor:  12031\n"
     ]
    },
    {
     "name": "stdout",
     "output_type": "stream",
     "text": [
      "O segundo número é maior\n"
     ]
    }
   ],
   "source": [
    " a41 = int(input(\"Primeiro valor: \"))\n",
    " b41 = int(input(\"Segundo valor: \"))\n",
    "\n",
    "if a41 > b41:\n",
    "    print(\"O primeiro número é maior\")\n",
    "if b41 > a41:\n",
    "    print(\"O segundo número é maior\")"
   ]
  },
  {
   "cell_type": "code",
   "execution_count": 45,
   "id": "eb3a7f95-4ed7-4581-aa80-b368ec5ac38d",
   "metadata": {},
   "outputs": [
    {
     "data": {
      "text/plain": [
       "'\\nEscreva um programa que pergunte a velocidade do carro de um \\nusuário. Caso ultrapasse 80 km/h, exiba uma mensagem dizendo que o usuário \\nfoi multado. Nesse caso, exiba o valor da multa, cobrando R$ 5 por km acima de \\n80 km/h.'"
      ]
     },
     "execution_count": 45,
     "metadata": {},
     "output_type": "execute_result"
    }
   ],
   "source": [
    "#4.2\n",
    "\"\"\"\n",
    "Escreva um programa que pergunte a velocidade do carro de um \n",
    "usuário. Caso ultrapasse 80 km/h, exiba uma mensagem dizendo que o usuário \n",
    "foi multado. Nesse caso, exiba o valor da multa, cobrando R$ 5 por km acima de \n",
    "80 km/h.\"\"\""
   ]
  },
  {
   "cell_type": "code",
   "execution_count": 46,
   "id": "96f71705-2ac9-44ad-a346-55c288bb45ab",
   "metadata": {},
   "outputs": [
    {
     "name": "stdin",
     "output_type": "stream",
     "text": [
      "Qual a velocidade do carro? (km/h) 911\n"
     ]
    },
    {
     "name": "stdout",
     "output_type": "stream",
     "text": [
      "Você foi multado em R$4155.00\n"
     ]
    }
   ],
   "source": [
    "v = float(input(\"Qual a velocidade do carro? (km/h)\"))\n",
    "\n",
    "multa = (v-80)*5\n",
    "if v >= 80:\n",
    "    print(\"Você foi multado em R$%.2f\" %multa)"
   ]
  },
  {
   "cell_type": "code",
   "execution_count": 47,
   "id": "06134dbe-221f-4a23-9fcb-9439bc2f5b8d",
   "metadata": {},
   "outputs": [
    {
     "data": {
      "text/plain": [
       "'\\nEscreva um programa que leia três números e que imprima o maior\\ne o menor\\n'"
      ]
     },
     "execution_count": 47,
     "metadata": {},
     "output_type": "execute_result"
    }
   ],
   "source": [
    "#4.3\n",
    "\"\"\"\n",
    "Escreva um programa que leia três números e que imprima o maior\n",
    "e o menor\n",
    "\"\"\""
   ]
  },
  {
   "cell_type": "code",
   "execution_count": 59,
   "id": "516ae70b-b66d-4729-ba24-87969e6ddbbc",
   "metadata": {},
   "outputs": [
    {
     "name": "stdin",
     "output_type": "stream",
     "text": [
      "Primeiro valor: 90\n",
      "Segundo valor: 10\n",
      "Terceiro valor: 13\n"
     ]
    },
    {
     "name": "stdout",
     "output_type": "stream",
     "text": [
      "O maior número digitado é 90.000000\n",
      "O menor número digitado é 10.000000\n"
     ]
    }
   ],
   "source": [
    "nmr1 = float(input(\"Primeiro valor:\"))\n",
    "nmr2 = float(input(\"Segundo valor:\"))\n",
    "nmr3 = float(input(\"Terceiro valor:\"))\n",
    "\n",
    "maior = nmr1\n",
    "if nmr3>nmr2 and nmr3>nmr1:\n",
    "    maior = nmr3\n",
    "if nmr2>nmr3 and nmr2>nmr1:\n",
    "    maior = nmr2\n",
    "\n",
    "menor = nmr1\n",
    "if nmr3<nmr2 and nmr3<nmr1:\n",
    "    menor = nmr3\n",
    "if nmr2<nmr3 and nmr2<nmr1:\n",
    "    menor = nmr2\n",
    "\n",
    "print(\"O maior número digitado é %f\" %maior)\n",
    "print(\"O menor número digitado é %f\" %menor)"
   ]
  },
  {
   "cell_type": "code",
   "execution_count": 49,
   "id": "20280597-bfac-4221-85ba-2711b6010129",
   "metadata": {},
   "outputs": [
    {
     "data": {
      "text/plain": [
       "'\\nEscreva um programa que pergunte o salário do funcionário e calcule \\no valor do aumento. Para salários superiores a R$ 1.250,00, calcule um aumento de \\n10%. Para os inferiores ou iguais, de 15%\\n'"
      ]
     },
     "execution_count": 49,
     "metadata": {},
     "output_type": "execute_result"
    }
   ],
   "source": [
    "#4.4\n",
    "\"\"\"\n",
    "Escreva um programa que pergunte o salário do funcionário e calcule \n",
    "o valor do aumento. Para salários superiores a R$ 1.250,00, calcule um aumento de \n",
    "10%. Para os inferiores ou iguais, de 15%\n",
    "\"\"\""
   ]
  },
  {
   "cell_type": "code",
   "execution_count": 57,
   "id": "7249c48f-a8f2-47d1-9931-497beab22147",
   "metadata": {},
   "outputs": [
    {
     "name": "stdin",
     "output_type": "stream",
     "text": [
      "Qual o seu salário (R$)? 0100\n"
     ]
    },
    {
     "name": "stdout",
     "output_type": "stream",
     "text": [
      "O seu aumento é de R$115.00\n"
     ]
    }
   ],
   "source": [
    "wage = float(input(\"Qual o seu salário (R$)?\"))\n",
    "\n",
    "aumento = 0.10\n",
    "if wage < 1250:\n",
    "    aumento = 0.15\n",
    "aumento = wage + (wage*aumento)\n",
    "print(\"O seu aumento é de R$%.2f\" %aumento)"
   ]
  },
  {
   "cell_type": "code",
   "execution_count": 61,
   "id": "1be45c5c-826f-4ae2-b8e8-e1a06c5ad4ea",
   "metadata": {},
   "outputs": [
    {
     "data": {
      "text/plain": [
       "'\\nEscreva um programa que pergunte a distância que um passageiro \\ndeseja percorrer em km. Calcule o preço da passagem, cobrando R$ 0,50 por km \\npara viagens de até de 200 km, e R$ 0,45 para viagens mais longas.\\n'"
      ]
     },
     "execution_count": 61,
     "metadata": {},
     "output_type": "execute_result"
    }
   ],
   "source": [
    "#4.6\n",
    "\"\"\"\n",
    "Escreva um programa que pergunte a distância que um passageiro \n",
    "deseja percorrer em km. Calcule o preço da passagem, cobrando R$ 0,50 por km \n",
    "para viagens de até de 200 km, e R$ 0,45 para viagens mais longas.\n",
    "\"\"\""
   ]
  },
  {
   "cell_type": "code",
   "execution_count": 63,
   "id": "3562c662-0339-4ebd-a6e6-030f8bf2e056",
   "metadata": {},
   "outputs": [
    {
     "name": "stdin",
     "output_type": "stream",
     "text": [
      "Qual a distância que deseja percorrer (km)? 10\n"
     ]
    },
    {
     "name": "stdout",
     "output_type": "stream",
     "text": [
      "O preço da passagem é de R$5.00\n"
     ]
    }
   ],
   "source": [
    "km = float(input(\"Qual a distância que deseja percorrer (km)?\"))\n",
    "\n",
    "if km <= 200:\n",
    "    valor = 0.5*km\n",
    "else:\n",
    "    valor = 0.45*km\n",
    "print(\"O preço da passagem é de R$%.2f\" %valor)"
   ]
  },
  {
   "cell_type": "code",
   "execution_count": 65,
   "id": "588875a0-232a-4b12-b009-83d802b48039",
   "metadata": {},
   "outputs": [
    {
     "data": {
      "text/plain": [
       "'\\nEscreva um programa que leia dois números e que pergunte qual \\noperação você deseja realizar. Você deve poder calcular a soma (+), subtração (-), \\nmultiplicação (*) e divisão (/). Exiba o resultado da operação solicitada.\\n'"
      ]
     },
     "execution_count": 65,
     "metadata": {},
     "output_type": "execute_result"
    }
   ],
   "source": [
    "#4.8\n",
    "\"\"\"\n",
    "Escreva um programa que leia dois números e que pergunte qual \n",
    "operação você deseja realizar. Você deve poder calcular a soma (+), subtração (-), \n",
    "multiplicação (*) e divisão (/). Exiba o resultado da operação solicitada.\n",
    "\"\"\""
   ]
  },
  {
   "cell_type": "code",
   "execution_count": 67,
   "id": "c31ae190-5648-4bb5-abce-0e7d1b4a9c65",
   "metadata": {},
   "outputs": [
    {
     "name": "stdin",
     "output_type": "stream",
     "text": [
      "Digite um número: 1000\n",
      "Digite outro número: 90\n",
      "Qual operação você deseja realizar ((+),(-), (*) ou (/))? /\n"
     ]
    },
    {
     "name": "stdout",
     "output_type": "stream",
     "text": [
      "O resultado é 11.11\n"
     ]
    }
   ],
   "source": [
    "a41 = float(input(\"Digite um número:\"))\n",
    "b41 = float(input(\"Digite outro número:\"))\n",
    "\n",
    "operacao = input(\"Qual operação você deseja realizar ((+),(-), (*) ou (/))?\")\n",
    "\n",
    "if operacao == \"+\":\n",
    "    resultado = a41+b41\n",
    "elif operacao == \"-\":\n",
    "    resultado = a41-b41\n",
    "elif operacao == \"*\":\n",
    "    resultado = a41*b41\n",
    "elif operacao == \"/\":\n",
    "    resultado = a41/b41\n",
    "else:\n",
    "    print(\"O resultado é inválido!\")\n",
    "    resultado = 0\n",
    "\n",
    "print(\"O resultado é %.2f\" %resultado)"
   ]
  },
  {
   "cell_type": "code",
   "execution_count": 69,
   "id": "1bf400c8-c8ad-45ec-86c8-cf13b5e39d88",
   "metadata": {},
   "outputs": [
    {
     "data": {
      "text/plain": [
       "'\\nEscreva um programa para aprovar o empréstimo bancário para \\ncompra de uma casa. O programa deve perguntar o valor da casa a comprar, o \\nsalário e a quantidade de anos a pagar. O valor da prestação mensal não pode ser \\nsuperior a 30% do salário. Calcule o valor da prestação como sendo o valor da \\ncasa a comprar dividido pelo número de meses a pagar.\\n'"
      ]
     },
     "execution_count": 69,
     "metadata": {},
     "output_type": "execute_result"
    }
   ],
   "source": [
    "#4.9\n",
    "\"\"\"\n",
    "Escreva um programa para aprovar o empréstimo bancário para \n",
    "compra de uma casa. O programa deve perguntar o valor da casa a comprar, o \n",
    "salário e a quantidade de anos a pagar. O valor da prestação mensal não pode ser \n",
    "superior a 30% do salário. Calcule o valor da prestação como sendo o valor da \n",
    "casa a comprar dividido pelo número de meses a pagar.\n",
    "\"\"\""
   ]
  },
  {
   "cell_type": "code",
   "execution_count": 71,
   "id": "9c11caaa-e47d-4e71-b05f-d1a5573b0d3c",
   "metadata": {},
   "outputs": [
    {
     "name": "stdin",
     "output_type": "stream",
     "text": [
      "Insira o valor da casa (R$): 20000\n",
      "Insira o seu salário mensal (R$): 1100\n",
      "Insira a quantidade de anos a pagar: 30\n"
     ]
    },
    {
     "name": "stdout",
     "output_type": "stream",
     "text": [
      "Parabéns, seu empréstimo foi aprovado!\n"
     ]
    }
   ],
   "source": [
    "casa = float(input(\"Insira o valor da casa (R$):\"))\n",
    "din = float(input(\"Insira o seu salário mensal (R$):\"))\n",
    "tempo = int(input(\"Insira a quantidade de anos a pagar:\"))\n",
    "\n",
    "prestacao = casa/(tempo*12)\n",
    "\n",
    "if prestacao > din*0.3:\n",
    "    print(\"Empréstimo negado.\")\n",
    "else:\n",
    "    print(\"Parabéns, seu empréstimo foi aprovado!\")"
   ]
  },
  {
   "cell_type": "code",
   "execution_count": 73,
   "id": "f0a63d60-6de8-4137-8d41-990e116e64f5",
   "metadata": {},
   "outputs": [
    {
     "data": {
      "text/plain": [
       "'\\nEscreva um programa que calcule o preço a pagar pelo fornecimento \\nde energia elétrica. Pergunte a quantidade de kWh consumida e o tipo de insta\\nlação: R para residências, I para indústrias e C para comércios. Calcule o preço a \\npagar de acordo com a tabela a seguir.\\n Preço por tipo e faixa de consumo\\n \\n Tipo        Faixa (kWh)     Preço\\n Residencial Até 500         R$ 0,40\\n             Acima de 500    R$ 0,65\\n Comercial   Até 1000        R$ 0,55\\n             Acima de 1000   R$ 0,60\\n Industrial  Até 5000        R$ 0,55\\n             Acima de 5000   R$ 0,60\\n'"
      ]
     },
     "execution_count": 73,
     "metadata": {},
     "output_type": "execute_result"
    }
   ],
   "source": [
    "#4.10\n",
    "\"\"\"\n",
    "Escreva um programa que calcule o preço a pagar pelo fornecimento \n",
    "de energia elétrica. Pergunte a quantidade de kWh consumida e o tipo de insta\n",
    "lação: R para residências, I para indústrias e C para comércios. Calcule o preço a \n",
    "pagar de acordo com a tabela a seguir.\n",
    " Preço por tipo e faixa de consumo\n",
    " \n",
    " Tipo        Faixa (kWh)     Preço\n",
    " Residencial Até 500         R$ 0,40\n",
    "             Acima de 500    R$ 0,65\n",
    " Comercial   Até 1000        R$ 0,55\n",
    "             Acima de 1000   R$ 0,60\n",
    " Industrial  Até 5000        R$ 0,55\n",
    "             Acima de 5000   R$ 0,60\n",
    "\"\"\""
   ]
  },
  {
   "cell_type": "code",
   "execution_count": 75,
   "id": "1d7c4c86-dc91-4381-b2fb-8ace13c94e15",
   "metadata": {},
   "outputs": [
    {
     "name": "stdin",
     "output_type": "stream",
     "text": [
      "Qual o seu tipo de instalação (R para residências, I para indústrias e C para comércios)? 4\n",
      "Qual o consumo de energia (kWh)? 124\n"
     ]
    },
    {
     "name": "stdout",
     "output_type": "stream",
     "text": [
      "ERRO. Digite um tipo de instalação válido.\n",
      "Sua conta de energia elétrica totalizou R$0.00\n"
     ]
    }
   ],
   "source": [
    "instalacao = input(\"Qual o seu tipo de instalação (R para residências, I para indústrias e C para comércios)?\")\n",
    "energia = float(input(\"Qual o consumo de energia (kWh)?\"))\n",
    "\n",
    "if instalacao == \"R\":\n",
    "    if energia > 500:\n",
    "        preco = 0.65\n",
    "    else:\n",
    "        preco = 0.4\n",
    "elif instalacao == \"C\":\n",
    "    if energia > 1000:\n",
    "        preco = 0.6\n",
    "    else:\n",
    "        preco = 0.55\n",
    "elif instalacao == \"I\":\n",
    "    if energia > 5000:\n",
    "        preco = 0.6\n",
    "    else:\n",
    "        preco = 0.55\n",
    "else:\n",
    "    print(\"ERRO. Digite um tipo de instalação válido.\")\n",
    "    preco = 0\n",
    "\n",
    "todo = preco*energia\n",
    "print(\"Sua conta de energia elétrica totalizou R$%.2f\" %todo)"
   ]
  },
  {
   "cell_type": "markdown",
   "id": "f25c27a5-de4a-4bbd-baf1-b353c363b2c8",
   "metadata": {},
   "source": [
    "## Capítulo 5"
   ]
  },
  {
   "cell_type": "code",
   "execution_count": 77,
   "id": "84ef5cdb-9707-4b39-90bb-01f4de89886a",
   "metadata": {},
   "outputs": [
    {
     "data": {
      "text/plain": [
       "'\\nFaça um programa para escrever a contagem regressiva do lançamento \\nde um foguete. O programa deve imprimir 10, 9, 8, ..., 1, 0 e \\nFogo! na tela\\n'"
      ]
     },
     "execution_count": 77,
     "metadata": {},
     "output_type": "execute_result"
    }
   ],
   "source": [
    "#5.3 \n",
    "\"\"\"\n",
    "Faça um programa para escrever a contagem regressiva do lançamento \n",
    "de um foguete. O programa deve imprimir 10, 9, 8, ..., 1, 0 e \n",
    "Fogo! na tela\n",
    "\"\"\""
   ]
  },
  {
   "cell_type": "code",
   "execution_count": 79,
   "id": "c424eb42-ebed-4007-863e-b532d5bf5333",
   "metadata": {},
   "outputs": [
    {
     "name": "stdout",
     "output_type": "stream",
     "text": [
      "10\n",
      "9\n",
      "8\n",
      "7\n",
      "6\n",
      "5\n",
      "4\n",
      "3\n",
      "2\n",
      "1\n",
      "0\n",
      "Fogo!\n"
     ]
    }
   ],
   "source": [
    "x=10\n",
    "while x>=0:\n",
    "    print(x)\n",
    "    x=x-1\n",
    "else:\n",
    "    print(\"Fogo!\")"
   ]
  },
  {
   "cell_type": "code",
   "execution_count": 81,
   "id": "12b00bb2-932f-4ed5-9ce1-c3ddc335f8c1",
   "metadata": {},
   "outputs": [
    {
     "data": {
      "text/plain": [
       "'\\nModifique o programa anterior para imprimir de 1 até o número \\ndigitado pelo usuário, mas, dessa vez, apenas os números ímpares\\n'"
      ]
     },
     "execution_count": 81,
     "metadata": {},
     "output_type": "execute_result"
    }
   ],
   "source": [
    "#5.4\n",
    "\"\"\"\n",
    "Modifique o programa anterior para imprimir de 1 até o número \n",
    "digitado pelo usuário, mas, dessa vez, apenas os números ímpares\n",
    "\"\"\""
   ]
  },
  {
   "cell_type": "code",
   "execution_count": 85,
   "id": "d6dae791-d8ff-4ac7-ab3a-57ae81b72bca",
   "metadata": {},
   "outputs": [
    {
     "name": "stdin",
     "output_type": "stream",
     "text": [
      "Digite o último número a imprimir: 12\n"
     ]
    },
    {
     "name": "stdout",
     "output_type": "stream",
     "text": [
      "1\n",
      "3\n",
      "5\n",
      "7\n",
      "9\n",
      "11\n"
     ]
    }
   ],
   "source": [
    "fim=int(input(\"Digite o último número a imprimir:\"))\n",
    "x=1\n",
    "while x<=fim:\n",
    "    print(x)\n",
    "    x=x+2"
   ]
  },
  {
   "cell_type": "code",
   "execution_count": 87,
   "id": "791f61c8-9bc9-47af-ae4c-d39775d40860",
   "metadata": {},
   "outputs": [
    {
     "data": {
      "text/plain": [
       "'\\nReescreva o programa anterior para escrever os 10 primeiros \\nmúltiplos de 3\\n'"
      ]
     },
     "execution_count": 87,
     "metadata": {},
     "output_type": "execute_result"
    }
   ],
   "source": [
    "#5.5\n",
    "\"\"\"\n",
    "Reescreva o programa anterior para escrever os 10 primeiros \n",
    "múltiplos de 3\n",
    "\"\"\""
   ]
  },
  {
   "cell_type": "code",
   "execution_count": 89,
   "id": "d31a3679-0198-4ea1-aa43-fe8f188c675b",
   "metadata": {},
   "outputs": [
    {
     "name": "stdout",
     "output_type": "stream",
     "text": [
      "0\n",
      "3\n",
      "6\n",
      "9\n",
      "12\n",
      "15\n",
      "18\n",
      "21\n",
      "24\n",
      "27\n"
     ]
    }
   ],
   "source": [
    "x=0\n",
    "while x<=27:\n",
    "    print(x)\n",
    "    x=x+3"
   ]
  },
  {
   "cell_type": "code",
   "execution_count": 91,
   "id": "ed81d057-3dab-4437-a012-d715c93c839d",
   "metadata": {},
   "outputs": [
    {
     "data": {
      "text/plain": [
       "'\\nAltere o programa anterior para exibir os resultados no mesmo\\nformato de uma tabuada: 2x1 = 2, 2x2=4\\n'"
      ]
     },
     "execution_count": 91,
     "metadata": {},
     "output_type": "execute_result"
    }
   ],
   "source": [
    "#5.6 \n",
    "\"\"\"\n",
    "Altere o programa anterior para exibir os resultados no mesmo\n",
    "formato de uma tabuada: 2x1 = 2, 2x2=4\n",
    "\"\"\""
   ]
  },
  {
   "cell_type": "code",
   "execution_count": 93,
   "id": "997ceb6f-015b-4e80-8fc2-9a0c13dcdfd2",
   "metadata": {},
   "outputs": [
    {
     "name": "stdin",
     "output_type": "stream",
     "text": [
      "Tabuada de: 2\n"
     ]
    },
    {
     "name": "stdout",
     "output_type": "stream",
     "text": [
      "2\n",
      "4\n",
      "6\n",
      "8\n",
      "10\n",
      "12\n",
      "14\n",
      "16\n",
      "18\n",
      "20\n"
     ]
    }
   ],
   "source": [
    " n = int(input(\"Tabuada de:\"))\n",
    " x = 1\n",
    "while x <= 10:\n",
    "    print(n*x)\n",
    "    x=x+1"
   ]
  },
  {
   "cell_type": "code",
   "execution_count": 95,
   "id": "62739261-bb53-405d-94a8-c50f15bcf58e",
   "metadata": {},
   "outputs": [
    {
     "data": {
      "text/plain": [
       "'\\nModifique o programa anterior de forma que o usuário também \\ndigite o início e o fim da tabuada, em vez de começar com 1 e 10\\n'"
      ]
     },
     "execution_count": 95,
     "metadata": {},
     "output_type": "execute_result"
    }
   ],
   "source": [
    "## 5.7\n",
    "\"\"\"\n",
    "Modifique o programa anterior de forma que o usuário também \n",
    "digite o início e o fim da tabuada, em vez de começar com 1 e 10\n",
    "\"\"\""
   ]
  },
  {
   "cell_type": "code",
   "execution_count": 97,
   "id": "8d613ddc-9709-4da5-8e31-b4bf0fd658c1",
   "metadata": {},
   "outputs": [
    {
     "name": "stdin",
     "output_type": "stream",
     "text": [
      "Tabuada de: 23\n",
      "Digite o início da tabuada: 1\n",
      "Digite o fim da tabuada: 3\n"
     ]
    },
    {
     "name": "stdout",
     "output_type": "stream",
     "text": [
      "23\n",
      "46\n",
      "69\n"
     ]
    }
   ],
   "source": [
    "ndois = int(input(\"Tabuada de:\"))\n",
    "st = int(input(\"Digite o início da tabuada:\"))\n",
    "fn = int(input(\"Digite o fim da tabuada:\"))\n",
    "\n",
    "x=st\n",
    "while x<=fn:\n",
    "    print(x*ndois)\n",
    "    x=x+1"
   ]
  },
  {
   "cell_type": "code",
   "execution_count": 99,
   "id": "d26bd7b9-e7ba-4fe9-b69d-75243b801d97",
   "metadata": {},
   "outputs": [
    {
     "data": {
      "text/plain": [
       "'\\nEscreva um programa que leia dois números. Imprima o resultado da \\nmultiplicação do primeiro pelo segundo. Utilize apenas os operadores de soma e \\nsubtração para calcular o resultado. Lembre-se de que podemos entender a mul\\ntiplicação de dois números como somas sucessivas de um deles. Assim, 4 × 5 = 5 \\n+ 5 + 5 + 5 = 4 + 4 + 4 + 4 + 4.\\n'"
      ]
     },
     "execution_count": 99,
     "metadata": {},
     "output_type": "execute_result"
    }
   ],
   "source": [
    "#5.8\n",
    "\"\"\"\n",
    "Escreva um programa que leia dois números. Imprima o resultado da \n",
    "multiplicação do primeiro pelo segundo. Utilize apenas os operadores de soma e \n",
    "subtração para calcular o resultado. Lembre-se de que podemos entender a mul\n",
    "tiplicação de dois números como somas sucessivas de um deles. Assim, 4 × 5 = 5 \n",
    "+ 5 + 5 + 5 = 4 + 4 + 4 + 4 + 4.\n",
    "\"\"\""
   ]
  },
  {
   "cell_type": "code",
   "execution_count": 101,
   "id": "c757cf26-61f4-408b-8bd0-245212cfac48",
   "metadata": {},
   "outputs": [
    {
     "name": "stdin",
     "output_type": "stream",
     "text": [
      "Digite um número: 10\n",
      "Digite outro número: 22\n"
     ]
    },
    {
     "name": "stdout",
     "output_type": "stream",
     "text": [
      "10 x 22 = 220\n"
     ]
    }
   ],
   "source": [
    "s1 = int(input(\"Digite um número:\"))\n",
    "s2 = int(input(\"Digite outro número:\"))\n",
    "\n",
    "x = 1\n",
    "r = 0\n",
    "while x <= s2:\n",
    "    r = r +s1\n",
    "    x = x +1\n",
    "print(f\"{s1} x {s2} = {r}\")"
   ]
  },
  {
   "cell_type": "code",
   "execution_count": 103,
   "id": "95d6464e-f195-4382-9297-5aee1bf5ff1e",
   "metadata": {},
   "outputs": [
    {
     "data": {
      "text/plain": [
       "'\\nEscreva um programa que leia dois números. Imprima a divisão \\ninteira do primeiro pelo segundo, assim como o resto da divisão. Utilize apenas \\nos operadores de soma e subtração para calcular o resultado. Lembre-se de que \\npodemos entender o quociente da divisão de dois números como a quantidade \\nde vezes que podemos retirar o divisor do dividendo. Logo, 20 ÷ 4 = 5, uma vez \\nque podemos subtrair 4 cinco vezes de 20\\n'"
      ]
     },
     "execution_count": 103,
     "metadata": {},
     "output_type": "execute_result"
    }
   ],
   "source": [
    "#5.9\n",
    "\"\"\"\n",
    "Escreva um programa que leia dois números. Imprima a divisão \n",
    "inteira do primeiro pelo segundo, assim como o resto da divisão. Utilize apenas \n",
    "os operadores de soma e subtração para calcular o resultado. Lembre-se de que \n",
    "podemos entender o quociente da divisão de dois números como a quantidade \n",
    "de vezes que podemos retirar o divisor do dividendo. Logo, 20 ÷ 4 = 5, uma vez \n",
    "que podemos subtrair 4 cinco vezes de 20\n",
    "\"\"\""
   ]
  },
  {
   "cell_type": "code",
   "execution_count": 105,
   "id": "2f4797b8-d75e-4c93-aa60-4a4b6101d88d",
   "metadata": {},
   "outputs": [
    {
     "name": "stdin",
     "output_type": "stream",
     "text": [
      "Dividendo: 1000\n",
      "Divisor: 230\n"
     ]
    },
    {
     "name": "stdout",
     "output_type": "stream",
     "text": [
      "1000/230 = 4, resto = 80\n"
     ]
    }
   ],
   "source": [
    "dvd = int(input(\"Dividendo:\"))\n",
    "dvs = int(input(\"Divisor:\"))\n",
    "\n",
    "x = dvd\n",
    "quociente = 0\n",
    "\n",
    "while x >= dvs:\n",
    "    x=x-dvs\n",
    "    quociente = quociente + 1\n",
    "resto = x\n",
    "print(f\"{dvd}/{dvs} = {quociente}, resto = {resto}\")"
   ]
  },
  {
   "cell_type": "code",
   "execution_count": 107,
   "id": "98f08c33-fbfe-44a4-ad79-24306c6bcf6e",
   "metadata": {},
   "outputs": [
    {
     "data": {
      "text/plain": [
       "'\\nEscreva um programa que pergunte o depósito inicial e a taxa de \\njuros de uma poupança. Exiba os valores mês a mês para os 24 primeiros meses. \\nEscreva o total ganho com juros no período.\\n'"
      ]
     },
     "execution_count": 107,
     "metadata": {},
     "output_type": "execute_result"
    }
   ],
   "source": [
    "#5.11\n",
    "\"\"\"\n",
    "Escreva um programa que pergunte o depósito inicial e a taxa de \n",
    "juros de uma poupança. Exiba os valores mês a mês para os 24 primeiros meses. \n",
    "Escreva o total ganho com juros no período.\n",
    "\"\"\""
   ]
  },
  {
   "cell_type": "code",
   "execution_count": 109,
   "id": "8e84ad0e-5971-4acd-aced-ea5024e87f31",
   "metadata": {},
   "outputs": [
    {
     "name": "stdin",
     "output_type": "stream",
     "text": [
      "Insira o depósito inicial (R$): 100\n",
      "Insira a taxa de juros da poupança (%): 10\n"
     ]
    },
    {
     "name": "stdout",
     "output_type": "stream",
     "text": [
      "Montante do mês 0: R$100.00\n",
      "Montante do mês 1: R$110.00\n",
      "Montante do mês 2: R$121.00\n",
      "Montante do mês 3: R$133.10\n",
      "Montante do mês 4: R$146.41\n",
      "Montante do mês 5: R$161.05\n",
      "Montante do mês 6: R$177.16\n",
      "Montante do mês 7: R$194.87\n",
      "Montante do mês 8: R$214.36\n",
      "Montante do mês 9: R$235.79\n",
      "Montante do mês 10: R$259.37\n",
      "Montante do mês 11: R$285.31\n",
      "Montante do mês 12: R$313.84\n",
      "Montante do mês 13: R$345.23\n",
      "Montante do mês 14: R$379.75\n",
      "Montante do mês 15: R$417.72\n",
      "Montante do mês 16: R$459.50\n",
      "Montante do mês 17: R$505.45\n",
      "Montante do mês 18: R$555.99\n",
      "Montante do mês 19: R$611.59\n",
      "Montante do mês 20: R$672.75\n",
      "Montante do mês 21: R$740.02\n",
      "Montante do mês 22: R$814.03\n",
      "Montante do mês 23: R$895.43\n",
      "Montante do mês 24: R$984.97\n",
      "Total ganho com juros: R$884.97\n"
     ]
    }
   ],
   "source": [
    "di = float(input(\"Insira o depósito inicial (R$):\"))\n",
    "taxa_juro = (float(input(\"Insira a taxa de juros da poupança (%):\")))/100\n",
    "\n",
    "x = 0\n",
    "while x<=24:\n",
    "    montante = di*((1+taxa_juro)**x)\n",
    "    print(\"Montante do mês %d:\" %x + \" R$%.2f\" %montante)\n",
    "    x=x+1\n",
    "    tudo = montante - di \n",
    "print(\"Total ganho com juros: R$%.2f\" %tudo)"
   ]
  },
  {
   "cell_type": "code",
   "execution_count": 111,
   "id": "1019e738-78cf-4eb7-92cb-6027fe17bf95",
   "metadata": {},
   "outputs": [
    {
     "data": {
      "text/plain": [
       "'\\nAltere o programa anterior de forma a perguntar também o valor \\ndepositado mensalmente. Esse valor será depositado no início de cada mês, e você \\ndeve considerá-lo para o cálculo de juros do mês seguinte\\n'"
      ]
     },
     "execution_count": 111,
     "metadata": {},
     "output_type": "execute_result"
    }
   ],
   "source": [
    "#5.12\n",
    "\"\"\"\n",
    "Altere o programa anterior de forma a perguntar também o valor \n",
    "depositado mensalmente. Esse valor será depositado no início de cada mês, e você \n",
    "deve considerá-lo para o cálculo de juros do mês seguinte\n",
    "\"\"\""
   ]
  },
  {
   "cell_type": "code",
   "execution_count": 115,
   "id": "b127d0b0-2743-40cb-b8f6-e5f010825d8c",
   "metadata": {},
   "outputs": [
    {
     "name": "stdin",
     "output_type": "stream",
     "text": [
      "Insira o depósito inicial (R$): 100\n",
      "Insira o valor a ser depositado mensalmente (R$) 10\n",
      "Insira a taxa de juros da poupança (%): 10\n"
     ]
    },
    {
     "name": "stdout",
     "output_type": "stream",
     "text": [
      "Montante do mês 1: R$120.00\n",
      "Montante do mês 2: R$142.00\n",
      "Montante do mês 3: R$166.20\n",
      "Montante do mês 4: R$192.82\n",
      "Montante do mês 5: R$222.10\n",
      "Montante do mês 6: R$254.31\n",
      "Montante do mês 7: R$289.74\n",
      "Montante do mês 8: R$328.72\n",
      "Montante do mês 9: R$371.59\n",
      "Montante do mês 10: R$418.75\n",
      "Montante do mês 11: R$470.62\n",
      "Montante do mês 12: R$527.69\n",
      "Montante do mês 13: R$590.45\n",
      "Montante do mês 14: R$659.50\n",
      "Montante do mês 15: R$735.45\n",
      "Montante do mês 16: R$818.99\n",
      "Montante do mês 17: R$910.89\n",
      "Montante do mês 18: R$1011.98\n",
      "Montante do mês 19: R$1123.18\n",
      "Montante do mês 20: R$1245.50\n",
      "Montante do mês 21: R$1380.05\n",
      "Montante do mês 22: R$1528.05\n",
      "Montante do mês 23: R$1690.86\n",
      "Montante do mês 24: R$1869.95\n",
      "Total ganho com juros: R$1519.95\n"
     ]
    }
   ],
   "source": [
    "di = float(input(\"Insira o depósito inicial (R$):\"))\n",
    "valor_mensal = float(input(\"Insira o valor a ser depositado mensalmente (R$)\"))\n",
    "taxa_juro = (float(input(\"Insira a taxa de juros da poupança (%):\")))/100\n",
    "\n",
    "x = 1\n",
    "montante = di\n",
    "while x<=24:\n",
    "    montante = montante * (1 + taxa_juro) + valor_mensal \n",
    "    print(\"Montante do mês %d:\" %x + \" R$%.2f\" %montante)\n",
    "    x=x+1\n",
    "tudo = montante - (di+x*valor_mensal)\n",
    "print(\"Total ganho com juros: R$%.2f\" %tudo)"
   ]
  }
 ],
 "metadata": {
  "kernelspec": {
   "display_name": "Python [conda env:base] *",
   "language": "python",
   "name": "conda-base-py"
  },
  "language_info": {
   "codemirror_mode": {
    "name": "ipython",
    "version": 3
   },
   "file_extension": ".py",
   "mimetype": "text/x-python",
   "name": "python",
   "nbconvert_exporter": "python",
   "pygments_lexer": "ipython3",
   "version": "3.12.7"
  }
 },
 "nbformat": 4,
 "nbformat_minor": 5
}
