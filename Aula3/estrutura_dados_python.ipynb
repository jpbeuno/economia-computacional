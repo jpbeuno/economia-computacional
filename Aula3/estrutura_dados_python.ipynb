{
 "cells": [
  {
   "cell_type": "markdown",
   "id": "459595ca-d250-4253-8440-8d3a30e7b1f6",
   "metadata": {},
   "source": [
    "# Estrutura de dados em Python"
   ]
  },
  {
   "cell_type": "markdown",
   "id": "0f7b2225-5112-4e26-807f-49650654c680",
   "metadata": {},
   "source": [
    "## Listas"
   ]
  },
  {
   "cell_type": "code",
   "execution_count": 5,
   "id": "45c0fd6a-0bbf-473a-abd3-689fb7e9d6d1",
   "metadata": {},
   "outputs": [],
   "source": [
    "lista = [1, 'b', 2.3]"
   ]
  },
  {
   "cell_type": "markdown",
   "id": "c3cce94d-6240-4521-b2a2-c9c2dfadeb58",
   "metadata": {},
   "source": [
    "## Acessando elementos da lista"
   ]
  },
  {
   "cell_type": "code",
   "execution_count": 8,
   "id": "18ba3d52-1590-4ee1-917b-aeb61e0a0ebc",
   "metadata": {},
   "outputs": [
    {
     "name": "stdout",
     "output_type": "stream",
     "text": [
      "1\n"
     ]
    }
   ],
   "source": [
    "# Acessando o primeiro elemento\n",
    "\n",
    "print(lista[0])"
   ]
  },
  {
   "cell_type": "code",
   "execution_count": 12,
   "id": "677bc1b0-e86a-432b-99bf-283683321b58",
   "metadata": {},
   "outputs": [
    {
     "name": "stdout",
     "output_type": "stream",
     "text": [
      "b\n"
     ]
    }
   ],
   "source": [
    "# Acessando o segundo elemento\n",
    "\n",
    "print(lista[1])"
   ]
  },
  {
   "cell_type": "code",
   "execution_count": 20,
   "id": "4878b88e-2d14-42cc-b2f3-c1b69bb450f4",
   "metadata": {},
   "outputs": [
    {
     "name": "stdout",
     "output_type": "stream",
     "text": [
      "<class 'str'>\n"
     ]
    }
   ],
   "source": [
    "# Exemplo 1 \n",
    "\n",
    "a = [1,2,3,4,5,6,'a',8]\n",
    "\n",
    "# Determine o tipo do penúltimo elemento de a\n",
    "\n",
    "print(type(a[6]))"
   ]
  },
  {
   "cell_type": "code",
   "execution_count": 24,
   "id": "213442da-3c25-45ed-ad0f-7d003ccdd1b4",
   "metadata": {},
   "outputs": [
    {
     "name": "stdout",
     "output_type": "stream",
     "text": [
      "[1, 2, 3, 4, 5, 6, 7, 8]\n",
      "<class 'int'>\n"
     ]
    }
   ],
   "source": [
    "# Exemplo 2 \n",
    "\n",
    "a[6] = 7\n",
    "print(a)\n",
    "print(type(a[6]))"
   ]
  },
  {
   "cell_type": "code",
   "execution_count": 61,
   "id": "94f1801b-81fc-4333-ac71-02ea765d1a76",
   "metadata": {},
   "outputs": [
    {
     "name": "stdin",
     "output_type": "stream",
     "text": [
      "Insira o primeiro número:  231\n",
      "Insira o segundo número:  819\n",
      "Insira o terceiro número:  212\n"
     ]
    },
    {
     "name": "stdout",
     "output_type": "stream",
     "text": [
      "[231, 819, 212]\n"
     ]
    }
   ],
   "source": [
    "# Escreva um código para ler 3 números inteiros de um usuário e guarde-os em uma lista\n",
    "\n",
    "n1 = int(input(\"Insira o primeiro número: \"))\n",
    "n2 = int(input(\"Insira o segundo número: \"))\n",
    "n3 = int(input(\"Insira o terceiro número: \"))\n",
    "\n",
    "lista = [n1, n2, n3]\n",
    "\n",
    "print(lista)"
   ]
  },
  {
   "cell_type": "code",
   "execution_count": 72,
   "id": "d6a99aa0-5b20-49a2-9dc9-cb8c7116aa45",
   "metadata": {},
   "outputs": [
    {
     "name": "stdin",
     "output_type": "stream",
     "text": [
      "Digite o número 1:  832\n",
      "Digite o número 2:  123\n",
      "Digite o número 3:  44\n"
     ]
    },
    {
     "name": "stdout",
     "output_type": "stream",
     "text": [
      "[832, 123, 44]\n"
     ]
    }
   ],
   "source": [
    "# Utilizando uma lista vazia\n",
    "\n",
    "i = 0\n",
    "\n",
    "numeros = []\n",
    "\n",
    "while i<3:\n",
    "    numeros.append(int(input(f\"Digite o número {i+1}: \")))\n",
    "    i = i+1\n",
    "print(numeros)    "
   ]
  },
  {
   "cell_type": "markdown",
   "id": "5d880ca7-92a8-4aa5-8181-e9baac301a6f",
   "metadata": {},
   "source": [
    "### A estrutura de controle de fluxo de execução \"for\""
   ]
  },
  {
   "cell_type": "code",
   "execution_count": 97,
   "id": "e3a0c13d-8193-4ab2-bd90-83677845be06",
   "metadata": {},
   "outputs": [
    {
     "name": "stdin",
     "output_type": "stream",
     "text": [
      "\n",
      "Digite o número 1:  342\n",
      "\n",
      "Digite o número 2:  1\n",
      "\n",
      "Digite o número 3:  33\n"
     ]
    },
    {
     "name": "stdout",
     "output_type": "stream",
     "text": [
      "[342, 1, 33]\n"
     ]
    }
   ],
   "source": [
    "i = 0\n",
    "\n",
    "numeros = []\n",
    "\n",
    "for i in range(3):\n",
    "    numeros.append(int(input(f\"\\nDigite o número {i+1}: \")))\n",
    "\n",
    "print(numeros)  "
   ]
  },
  {
   "cell_type": "code",
   "execution_count": 104,
   "id": "92bb600c-7afd-4b5f-97ed-94b0d1e23cb4",
   "metadata": {},
   "outputs": [
    {
     "name": "stdout",
     "output_type": "stream",
     "text": [
      "(342, 1, 33)\n"
     ]
    }
   ],
   "source": [
    "# tuple perde flexibilidade e ganha desempenho\n",
    "\n",
    "numeros_tuple = tuple(numeros)\n",
    "print(numeros_tuple)"
   ]
  },
  {
   "cell_type": "code",
   "execution_count": 101,
   "id": "0dea6637-15aa-4298-91c2-3c6838b1c444",
   "metadata": {},
   "outputs": [
    {
     "name": "stdout",
     "output_type": "stream",
     "text": [
      "[342, 1, 33]\n"
     ]
    }
   ],
   "source": [
    "numeros_lista = list(numeros_tuple)\n",
    "print(numeros_lista)"
   ]
  },
  {
   "cell_type": "code",
   "execution_count": null,
   "id": "ddc6e20b-f47f-42aa-98ad-685eef153af7",
   "metadata": {},
   "outputs": [],
   "source": []
  }
 ],
 "metadata": {
  "kernelspec": {
   "display_name": "Python [conda env:anaconda3] *",
   "language": "python",
   "name": "conda-env-anaconda3-py"
  },
  "language_info": {
   "codemirror_mode": {
    "name": "ipython",
    "version": 3
   },
   "file_extension": ".py",
   "mimetype": "text/x-python",
   "name": "python",
   "nbconvert_exporter": "python",
   "pygments_lexer": "ipython3",
   "version": "3.12.7"
  }
 },
 "nbformat": 4,
 "nbformat_minor": 5
}
